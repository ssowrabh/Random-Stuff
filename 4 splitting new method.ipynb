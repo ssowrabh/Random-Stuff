{
 "cells": [
  {
   "cell_type": "code",
   "execution_count": 16,
   "metadata": {},
   "outputs": [
    {
     "name": "stdout",
     "output_type": "stream",
     "text": [
      "[matrix([[0, 0, 0, 1],\n",
      "        [0, 1, 0, 0],\n",
      "        [1, 0, 0, 0],\n",
      "        [0, 0, 1, 0]]), matrix([[0, 0, 1, 0],\n",
      "        [1, 0, 0, 0],\n",
      "        [0, 1, 0, 0],\n",
      "        [0, 0, 0, 1]]), matrix([[0, 0, 0, 1],\n",
      "        [1, 0, 0, 0],\n",
      "        [0, 0, 1, 0],\n",
      "        [0, 1, 0, 0]]), matrix([[0, 1, 0, 0],\n",
      "        [0, 0, 1, 0],\n",
      "        [1, 0, 0, 0],\n",
      "        [0, 0, 0, 1]]), matrix([[1, 0, 0, 0],\n",
      "        [0, 0, 1, 0],\n",
      "        [0, 0, 0, 1],\n",
      "        [0, 1, 0, 0]]), matrix([[1, 0, 0, 0],\n",
      "        [0, 1, 0, 0],\n",
      "        [0, 0, 1, 0],\n",
      "        [0, 0, 0, 1]]), matrix([[0, 1, 0, 0],\n",
      "        [1, 0, 0, 0],\n",
      "        [0, 0, 0, 1],\n",
      "        [0, 0, 1, 0]]), matrix([[1, 0, 0, 0],\n",
      "        [0, 0, 0, 1],\n",
      "        [0, 1, 0, 0],\n",
      "        [0, 0, 1, 0]]), matrix([[0, 0, 1, 0],\n",
      "        [0, 1, 0, 0],\n",
      "        [0, 0, 0, 1],\n",
      "        [1, 0, 0, 0]]), matrix([[0, 0, 0, 1],\n",
      "        [0, 0, 1, 0],\n",
      "        [0, 1, 0, 0],\n",
      "        [1, 0, 0, 0]]), matrix([[0, 1, 0, 0],\n",
      "        [0, 0, 0, 1],\n",
      "        [0, 0, 1, 0],\n",
      "        [1, 0, 0, 0]]), matrix([[0, 0, 1, 0],\n",
      "        [0, 0, 0, 1],\n",
      "        [1, 0, 0, 0],\n",
      "        [0, 1, 0, 0]])]\n"
     ]
    },
    {
     "data": {
      "text/plain": [
       "12"
      ]
     },
     "execution_count": 16,
     "metadata": {},
     "output_type": "execute_result"
    }
   ],
   "source": [
    "import numpy as np\n",
    "import random as r\n",
    "\n",
    "# constructing multiplication table for 4*4 \n",
    "\n",
    "import numpy as np\n",
    "import random as r\n",
    "# below code can be used to generate all the permutation matrices\n",
    "\n",
    "# size of the matrices\n",
    "size = 4\n",
    "# below is the code segment to compare 2 matrices\n",
    "def areSame(A,B):\n",
    "\n",
    "    for i in range(size):\n",
    "        for j in range(size):\n",
    "            if (A[i,j] != B[i,j]):\n",
    "                return 0\n",
    "    return 1\n",
    "\n",
    "# below are our generating matrices\n",
    "\n",
    "a = np.matrix('0 1 0 0; 1 0 0 0; 0 0 1 0; 0 0 0 1')\n",
    "b = np.matrix('1 0 0 0; 0 0 1 0; 0 1 0 0; 0 0 0 1')\n",
    "c = np.matrix('1 0 0 0; 0 1 0 0; 0 0 0 1; 0 0 1 0')\n",
    "d = np.matrix('0 0 0 1; 0 1 0 0; 0 0 1 0; 1 0 0 0')\n",
    "\n",
    "\n",
    "perm = []\n",
    "sample = [a,b,c,d]\n",
    "\n",
    "product = np.matrix('1 0 0 0; 0 1 0 0; 0 0 1 0; 0 0 0 1')\n",
    "factor = 4  # splitting factor\n",
    "\n",
    "count = 0\n",
    "while count < 10000:\n",
    "    count2 = 0\n",
    "    product = np.matrix('1 0 0 0; 0 1 0 0; 0 0 1 0; 0 0 0 1')\n",
    "    while count2 < factor:\n",
    "        product = np.dot(product,r.choice(sample))\n",
    "        count2 = count2 + 1\n",
    "    count3 = 0\n",
    "    add = 1\n",
    "    while count3 < len(perm):\n",
    "        if areSame(product,perm[count3]) == 1 :\n",
    "            add = 0\n",
    "        count3 = count3 + 1\n",
    "    if add == 1:\n",
    "        perm.append(product)\n",
    "    count = count + 1    \n",
    "print(perm)\n",
    "len(perm)\n",
    "        \n",
    "        \n",
    "\n",
    "\n"
   ]
  },
  {
   "cell_type": "code",
   "execution_count": null,
   "metadata": {},
   "outputs": [],
   "source": [
    "# constructing multiplication table\n",
    "\n"
   ]
  }
 ],
 "metadata": {
  "kernelspec": {
   "display_name": "Python 3",
   "language": "python",
   "name": "python3"
  },
  "language_info": {
   "codemirror_mode": {
    "name": "ipython",
    "version": 3
   },
   "file_extension": ".py",
   "mimetype": "text/x-python",
   "name": "python",
   "nbconvert_exporter": "python",
   "pygments_lexer": "ipython3",
   "version": "3.7.4"
  }
 },
 "nbformat": 4,
 "nbformat_minor": 2
}
