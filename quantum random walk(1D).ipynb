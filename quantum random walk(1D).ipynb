{
 "cells": [
  {
   "cell_type": "code",
   "execution_count": 3,
   "metadata": {},
   "outputs": [],
   "source": [
    "import numpy as np\n",
    "import cmath\n",
    "import math"
   ]
  },
  {
   "cell_type": "code",
   "execution_count": null,
   "metadata": {},
   "outputs": [],
   "source": [
    "# Let us first perform the time evolution part of the problem.\n",
    "# we could do this problem on a circle with a finite number of vertices(say 10).\n",
    "# we take kets of the form |A> * |B> where \"*\" stands for tensor product. First ket is spin up/down and second ket is position.\n",
    "# at each time step we need to apply a unitary \"coin flip\" operation that will be tensor product of two operators, one acting on first ket,\n",
    "# the second acting on the second ket. On the first ket we act a hadamard like operation, on the second ket we act Identity.\n",
    "# there are two unitary operations in each time step, the second operation is a \"two particle\" operator\n"
   ]
  },
  {
   "cell_type": "code",
   "execution_count": 11,
   "metadata": {},
   "outputs": [
    {
     "data": {
      "text/plain": [
       "6"
      ]
     },
     "execution_count": 11,
     "metadata": {},
     "output_type": "execute_result"
    }
   ],
   "source": [
    "j = complex(0,1)\n",
    "j*math.pi\n",
    "#math.exp(j*math.pi)\n",
    "math.cos(math.pi)\n"
   ]
  },
  {
   "cell_type": "code",
   "execution_count": null,
   "metadata": {},
   "outputs": [],
   "source": []
  }
 ],
 "metadata": {
  "kernelspec": {
   "display_name": "Python 3",
   "language": "python",
   "name": "python3"
  },
  "language_info": {
   "codemirror_mode": {
    "name": "ipython",
    "version": 3
   },
   "file_extension": ".py",
   "mimetype": "text/x-python",
   "name": "python",
   "nbconvert_exporter": "python",
   "pygments_lexer": "ipython3",
   "version": "3.7.4"
  }
 },
 "nbformat": 4,
 "nbformat_minor": 2
}
